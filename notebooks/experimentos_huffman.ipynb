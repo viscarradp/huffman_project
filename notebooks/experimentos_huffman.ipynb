{
 "cells": [
  {
   "cell_type": "markdown",
   "metadata": {
    "id": "OhEwCrLzVSQC"
   },
   "source": [
    "# **Codificación Huffman | Implementación y experimentos**\n"
   ]
  },
  {
   "cell_type": "markdown",
   "metadata": {
    "id": "v3FR1DaIWe1M"
   },
   "source": [
    "Aqui irá una breve introducción al cuaderno de juppyter, aqui hablaré un poco sobre cómo estará estructurado el notebook y qué cosas contiene, probablemente tambien un indice de contenido.\n",
    "\n",
    "Adicional a ello también voy a proporcionar detalles de cómo funciona el encoder y cómo están hechos los experimentos. Ahora lo demás de esta celda es texto de relleno para ver cómo se ve lleno de texto.\n",
    "\n",
    "Este es un texto de relleno, un párrafo de relleno que permite ver cómo se ve la celda con bastante texto"
   ]
  },
  {
   "cell_type": "markdown",
   "metadata": {},
   "source": [
    "### Configuración de rutas"
   ]
  },
  {
   "cell_type": "code",
   "execution_count": null,
   "metadata": {
    "colab": {
     "base_uri": "https://localhost:8080/"
    },
    "id": "qTMwXdorKT6x",
    "outputId": "8651aad1-1ffa-47ee-9274-22f144cbb792",
    "scrolled": true
   },
   "outputs": [],
   "source": [
    "import os\n",
    "import pickle\n",
    "import sys\n",
    "from collections import Counter\n",
    "import matplotlib.pyplot as plt\n",
    "import pandas as pd\n",
    "import numpy as np\n",
    "import random \n",
    "import string \n",
    "# Aqui se añade la carpeta root del proyecto, ya que se esta trabajando en notebook/\n",
    "project_root = os.path.abspath(os.path.join(os.getcwd(), os.pardir))\n",
    "if project_root not in sys.path:\n",
    "    sys.path.append(project_root)"
   ]
  },
  {
   "cell_type": "markdown",
   "metadata": {},
   "source": [
    "### Definición de la función que usa el motor de encoding y analiza los resultados"
   ]
  },
  {
   "cell_type": "code",
   "execution_count": null,
   "metadata": {},
   "outputs": [],
   "source": [
    "from encoder.compressor_huffman import CompresorHuffman\n",
    "\n",
    "def analizar_compresion(ruta_archivo):\n",
    "    \"\"\"\n",
    "    Toma la ruta de un archivo, lo comprime con Huffman y devuelve\n",
    "    un diccionario con las estadísticas del proceso.\n",
    "    \"\"\"\n",
    "    compresor = CompresorHuffman()\n",
    "    \n",
    "    # Manejo de excepción, por si no encuentra el archivo\n",
    "    try:\n",
    "        with open(ruta_archivo, 'r', encoding='utf-8') as f:\n",
    "            texto = f.read()\n",
    "        # Se obtiene el tamaño del archivo antes de la compresión\n",
    "        tamano_original_bytes = os.path.getsize(ruta_archivo)\n",
    "    except FileNotFoundError:\n",
    "        print(f\"Error: El archivo {ruta_archivo} no fue encontrado.\")\n",
    "        return None\n",
    "\n",
    "    # Se realiza la compresión\n",
    "    texto_comprimido, raiz = compresor.compresion_huffman(texto)\n",
    "\n",
    "    # Aqui se calcula el tamaño de los archivos para el posterior analisis\n",
    "    longitud_en_bits = len(texto_comprimido)\n",
    "    tamano_datos_comprimidos_bytes = (longitud_en_bits + 7) // 8\n",
    "    \n",
    "    arbol_serializado = pickle.dumps(raiz)\n",
    "    tamano_arbol_bytes = len(arbol_serializado)\n",
    "    \n",
    "    tamano_total_comprimido_bytes = tamano_datos_comprimidos_bytes + tamano_arbol_bytes\n",
    "    \n",
    "    # Se calcula el ratio  = tamaño despues / tamaño antes\n",
    "    if tamano_original_bytes > 0:\n",
    "        ratio_compresion = (1 - (tamano_total_comprimido_bytes / tamano_original_bytes)) * 100\n",
    "    else:\n",
    "        ratio_compresion = 0\n",
    "\n",
    "    \"\"\"\n",
    "    Se devuelven los resultados para la comprensi[on en forma de diccionario.\n",
    "    Esto para su posterior analisis\n",
    "    \"\"\"\n",
    "    return {\n",
    "        \"archivo\": os.path.basename(ruta_archivo),\n",
    "        \"original_b\": tamano_original_bytes,\n",
    "        \"total_comprimido_b\": tamano_total_comprimido_bytes,\n",
    "        \"ratio_%\": ratio_compresion\n",
    "    }\n"
   ]
  },
  {
   "cell_type": "markdown",
   "metadata": {},
   "source": [
    "### Definicion de la función *obtener_resultados()* en la que se definen los archivos y se obtienen los resultados"
   ]
  },
  {
   "cell_type": "code",
   "execution_count": null,
   "metadata": {
    "scrolled": true
   },
   "outputs": [],
   "source": [
    "def obtener_resultados(archivos_a_probar):\n",
    "    \"\"\"\n",
    "    aqui se definen los archivos y se obtienen los resultados.\n",
    "    \"\"\"\n",
    "    # Lista de archivos para los exp\n",
    "\n",
    "    lista_de_resultados = []\n",
    "    \n",
    "    for archivo in archivos_a_probar:\n",
    "        resultado = analizar_compresion(archivo)\n",
    "        if resultado:\n",
    "            lista_de_resultados.append(resultado)\n",
    "\n",
    "\n",
    "    # Resumen\n",
    "    print(\"\\n\" + \"=\"*60)\n",
    "    print(\"Resumen de Resultados de Compresión Huffman\")\n",
    "    print(\"=\"*60)\n",
    "    print(f\"{'Archivo':<25} | {'Original (B)':>12} | {'Comprimido (B)':>15} | {'Ratio (%)':>10}\")\n",
    "    print(\"-\"*60)\n",
    "    \n",
    "    for res in lista_de_resultados:\n",
    "        print(f\"{res['archivo']:<25} | {res['original_b']:>12} | {res['total_comprimido_b']:>15} | {res['ratio_%']:>9.2f}%\")\n",
    "        \n",
    "    print(\"=\"*60)\n",
    "\n",
    "    return lista_de_resultados\n",
    "    \n",
    "# Ejemplo del formato que debe seguir la lista de archivos a probar:\n",
    "archivos_a_probar = [\n",
    "        '../data/quijote.txt',\n",
    "        '../data/texto_repetitivo.txt',\n",
    "        '../data/texto_aleatorio.txt'\n",
    "    ]"
   ]
  },
  {
   "cell_type": "markdown",
   "metadata": {},
   "source": [
    "### Definicion de la función para crear gráficos"
   ]
  },
  {
   "cell_type": "code",
   "execution_count": null,
   "metadata": {},
   "outputs": [],
   "source": [
    "def crear_grafico_comparativo(resultados):\n",
    "    \"\"\"\n",
    "    Crea un gráfico de barras agrupadas comparando el tamaño\n",
    "    original vs el comprimido para cada archivo.\n",
    "    \"\"\"\n",
    "    # Extraer los datos para graficar\n",
    "    nombres_archivos = [res['archivo'] for res in resultados]\n",
    "    tamanos_originales = [res['original_b'] for res in resultados]\n",
    "    tamanos_comprimidos = [res['total_comprimido_b'] for res in resultados]\n",
    "    \n",
    "    # Configuración del gráfico\n",
    "    x = np.arange(len(nombres_archivos))  # las etiquetas ubicaciones\n",
    "    ancho_barra = 0.35  # ancho de barras\n",
    "\n",
    "    plt.style.use('seaborn-v0_8-whitegrid')\n",
    "    fig, ax = plt.subplots(figsize=(12, 7))\n",
    "\n",
    "    # crear las barras\n",
    "    rects1 = ax.bar(x - ancho_barra/2, tamanos_originales, ancho_barra, label='Original', color='#4c72b0')\n",
    "    rects2 = ax.bar(x + ancho_barra/2, tamanos_comprimidos, ancho_barra, label='Comprimido', color='#c44e52')\n",
    "\n",
    "    # Aanadir títulos y etiquetas\n",
    "    ax.set_title('Comparación de Tamaño: Original vs. Comprimido', fontsize=16, weight='bold')\n",
    "    ax.set_ylabel('Tamaño (bytes)', fontsize=12)\n",
    "    ax.set_xlabel('Archivos de Prueba', fontsize=12)\n",
    "    ax.set_xticks(x)\n",
    "    ax.set_xticklabels(nombres_archivos, rotation=15, ha=\"right\")\n",
    "    ax.legend()\n",
    "\n",
    "    # añadir etiquetas de valor sobre las barras para mayor claridad\n",
    "    ax.bar_label(rects1, padding=3)\n",
    "    ax.bar_label(rects2, padding=3)\n",
    "\n",
    "    plt.tight_layout()\n",
    "\n",
    "    if not os.path.exists('../results'):\n",
    "        os.makedirs('results')\n",
    "    plt.savefig('../results/grafico_comparativo_tamanos.png')\n",
    "    plt.show()\n"
   ]
  },
  {
   "cell_type": "code",
   "execution_count": null,
   "metadata": {},
   "outputs": [],
   "source": [
    "def preparar_datos_escalabilidad(tipo='normal', tamaños_kb=[1, 5, 10, 20, 50]):\n",
    "    \"\"\"\n",
    "    Genera archivos de prueba de diferentes tamaños para un tipo de texto específico.\n",
    "    Tipos: 'normal', 'repetitivo', 'aleatorio'\n",
    "    \"\"\"\n",
    "    # Cargar el texto base\n",
    "    if tipo == 'normal':\n",
    "        with open('../data/quijote.txt', 'r', encoding='utf-8') as f:\n",
    "            texto_base = f.read()\n",
    "    elif tipo == 'repetitivo':\n",
    "        texto_base = \"abcde\" * 20000 # ~100KB de texto repetitivo\n",
    "    else: # aleatorio\n",
    "        texto_base = ''.join(random.choice(string.ascii_letters + string.digits) for _ in range(100 * 1024))\n",
    "\n",
    "    # Crear sub-archivos de diferentes tamaños\n",
    "    if not os.path.exists('../data/temp'):\n",
    "        os.makedirs('../data/temp')\n",
    "\n",
    "    for kb in tamaños_kb:\n",
    "        longitud = kb * 1024\n",
    "        contenido = (texto_base * (longitud // len(texto_base) + 1))[:longitud]\n",
    "        with open(f'../data/temp/{tipo}_{kb}kb.txt', 'w', encoding='utf-8') as f:\n",
    "            f.write(contenido)"
   ]
  },
  {
   "cell_type": "code",
   "execution_count": null,
   "metadata": {},
   "outputs": [],
   "source": [
    "def graficar_escalabilidad(df_resultados):\n",
    "    \"\"\"\n",
    "    Crea un gráfico de líneas mostrando cómo escala el tamaño comprimido\n",
    "    respecto al tamaño original para diferentes tipos de archivos.\n",
    "    \"\"\"\n",
    "    plt.style.use('seaborn-v0_8-whitegrid')\n",
    "    fig, ax = plt.subplots(figsize=(12, 8))\n",
    "\n",
    "    # Línea base de \"sin compresión\" (y=x)\n",
    "    max_size = df_resultados['original_b'].max()\n",
    "    ax.plot([0, max_size], [0, max_size], 'k--', label='Sin Compresión (y=x)')\n",
    "\n",
    "    # Un color para cada tipo de archivo\n",
    "    colores = {'normal': '#4c72b0', 'repetitivo': '#55a868', 'aleatorio': '#c44e52'}\n",
    "\n",
    "    # Agrupar por tipo y graficar una línea para cada uno\n",
    "    for tipo, grupo in df_resultados.groupby('Tipo'):\n",
    "        ax.plot(grupo['original_b'], grupo['total_comprimido_b'], marker='o', linestyle='-', label=f'Texto {tipo}', color=colores[tipo])\n",
    "\n",
    "    # Títulos y etiquetas\n",
    "    ax.set_title('Análisis de Escalabilidad de la Compresión Huffman', fontsize=16, weight='bold')\n",
    "    ax.set_xlabel('Tamaño Original (bytes)', fontsize=12)\n",
    "    ax.set_ylabel('Tamaño Comprimido (bytes)', fontsize=12)\n",
    "    ax.legend()\n",
    "    ax.grid(True)\n",
    "\n",
    "    plt.tight_layout()\n",
    "    plt.savefig('../results/grafico_escalabilidad.png')\n",
    "    plt.show()\n"
   ]
  },
  {
   "cell_type": "code",
   "execution_count": null,
   "metadata": {},
   "outputs": [],
   "source": [
    "def visualizar_escalabilidad():\n",
    "    tipos_de_texto = ['normal', 'repetitivo', 'aleatorio']\n",
    "    tamaños_kb = [1, 5, 10, 25, 50, 100] # Tamaños en Kilobytes\n",
    "    \n",
    "    print(\"Preparando archivos de prueba para el análisis de escalabilidad...\")\n",
    "    for tipo in tipos_de_texto:\n",
    "        preparar_datos_escalabilidad(tipo, tamaños_kb)\n",
    "    print(\"Archivos listos.\")\n",
    "\n",
    "    # Lista para guardar todos los resultados\n",
    "    resultados_totales = []\n",
    "    \n",
    "    print(\"\\nEjecutando análisis de compresión...\")\n",
    "    for tipo in tipos_de_texto:\n",
    "        for kb in tamaños_kb:\n",
    "            ruta = f'../data/temp/{tipo}_{kb}kb.txt'\n",
    "            resultado = analizar_compresion(ruta)\n",
    "            if resultado:\n",
    "                resultado['Tipo'] = tipo # Añadir el tipo para agrupar después\n",
    "                resultados_totales.append(resultado)\n",
    "    \n",
    "    if not resultados_totales:\n",
    "        print(\"No se generaron resultados. Verifica las rutas de los archivos.\")\n",
    "        return\n",
    "\n",
    "    # Convertir a df \n",
    "    df_final = pd.DataFrame(resultados_totales)\n",
    "    graficar_escalabilidad(df_final)\n",
    "\n",
    "\n",
    "\n",
    "# Ejecutar el nuevo experimento\n",
    "visualizar_escalabilidad()"
   ]
  },
  {
   "cell_type": "markdown",
   "metadata": {},
   "source": [
    "# Experimentos\n",
    "## Experimento 1\n",
    "### Grandes cantidades de caracteres\n",
    "Se pone a prueba el algoritmo de codificación de mensaje en tres casos: un texto promedio (el inicio del libro \"Don Quijote de la mancha\"), un texto con los mismos 10 caracteres repetidos y por último un texto con caracteres aleatorios.\n",
    "En los tres casos se busco igualar la cantidad de caracteres a aproximadamente 10351, que es una cifra dispuesta de manera arbitraria. De manera que todos tienen aproximadamente la misma cantidad de caracteres y en lo que difieren es en la frecuencia y el rango o variedad de estos. "
   ]
  },
  {
   "cell_type": "code",
   "execution_count": 48,
   "metadata": {},
   "outputs": [
    {
     "name": "stdout",
     "output_type": "stream",
     "text": [
      "Error: El archivo ../data/texto_repetitivo.txt no fue encontrado.\n",
      "Error: El archivo ../data/texto_aleatorio.txt no fue encontrado.\n",
      "\n",
      "============================================================\n",
      "Resumen de Resultados de Compresión Huffman\n",
      "============================================================\n",
      "Archivo                   | Original (B) |  Comprimido (B) |  Ratio (%)\n",
      "------------------------------------------------------------\n",
      "quijote.txt               |        10351 |            8547 |     17.43%\n",
      "============================================================\n"
     ]
    },
    {
     "data": {
      "image/png": "[encoded data removed]",
      "text/plain": [
       "<Figure size 1200x700 with 1 Axes>"
      ]
     },
     "metadata": {},
     "output_type": "display_data"
    },
    {
     "name": "stdout",
     "output_type": "stream",
     "text": [
      "Gráfico guardado en la carpeta /results/\n"
     ]
    }
   ],
   "source": [
    "archivos_a_probar = [\n",
    "        '../data/quijote.txt',\n",
    "        '../data/texto_repetitivo.txt',\n",
    "        '../data/texto_aleatorio.txt'\n",
    "    ]\n",
    "\n",
    "if __name__ == \"__main__\":\n",
    "    results_exp1 = obtener_resultados(archivos_a_probar)\n",
    "    if results_exp1:\n",
    "        crear_grafico_comparativo(results_exp1)\n",
    "        print(\"Gráfico guardado en la carpeta /results/\")\n",
    "    else:\n",
    "        print(\"No hay resultados que mostrar\")"
   ]
  }
 ],
 "metadata": {
  "colab": {
   "provenance": []
  },
  "kernelspec": {
   "display_name": "Python 3",
   "language": "python",
   "name": "python3"
  },
  "language_info": {
   "codemirror_mode": {
    "name": "ipython",
    "version": 3
   },
   "file_extension": ".py",
   "mimetype": "text/x-python",
   "name": "python",
   "nbconvert_exporter": "python",
   "pygments_lexer": "ipython3",
   "version": "3.13.5"
  }
 },
 "nbformat": 4,
 "nbformat_minor": 4
}
